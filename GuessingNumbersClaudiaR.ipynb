{
 "cells": [
  {
   "cell_type": "code",
   "execution_count": null,
   "metadata": {},
   "outputs": [],
   "source": [
    "import random\n",
    "\n",
    "lower=0\n",
    "upper=10\n",
    "rnd=random.randint(lower,upper)\n",
    "\n",
    "print(rnd)\n",
    "\n",
    "\n",
    "i=1\n",
    "while i < 4:\n",
    "    answer= input(\"Guessing number: \" + str(i) + \n",
    "                  \". \\nEnter a number to guess a randomly selected number between 0 andd 10:\\n \")\n",
    "   # print(rnd)\n",
    "   # print(answer)\n",
    "    \n",
    "    if int(answer) == int(rnd):\n",
    "        print('You won!, the randomly number is:' + str(rnd))\n",
    "        i=4\n",
    "        break\n",
    "    else:\n",
    "        i +=1"
   ]
  }
 ],
 "metadata": {
  "kernelspec": {
   "display_name": "Python 3",
   "language": "python",
   "name": "python3"
  },
  "language_info": {
   "codemirror_mode": {
    "name": "ipython",
    "version": 3
   },
   "file_extension": ".py",
   "mimetype": "text/x-python",
   "name": "python",
   "nbconvert_exporter": "python",
   "pygments_lexer": "ipython3",
   "version": "3.7.3"
  }
 },
 "nbformat": 4,
 "nbformat_minor": 2
}
