{
 "cells": [
  {
   "cell_type": "code",
   "execution_count": 8,
   "metadata": {},
   "outputs": [
    {
     "name": "stdout",
     "output_type": "stream",
     "text": [
      "Enter an amount and the program will respond with the text spelling out of amount or press 'q' to quit. \n",
      "60\n",
      "The value doesn't exist into the dictionary. \n",
      "\n",
      "Please, spell out the amount for : 60 Sixty\n",
      "Enter an amount and the program will respond with the text spelling out of amount or press 'q' to quit. \n",
      "q\n",
      "Here are the values you have entered: \n",
      "\n",
      "{'10': 'Ten', '20': 'Twenty', '60': 'Sixty'}\n"
     ]
    }
   ],
   "source": [
    "#Using Python Dictionaries\n",
    "'''\n",
    "Create a program that will prompt the user to enter an amount. \n",
    "When the user enters the amount, the program will respond with the text spelling out \n",
    "of the amount. For example, the user enters '10', the program responds with 'ten'.\n",
    "'''\n",
    "\n",
    "#Dictionary with the numbers\n",
    "numbers= {'10':'Ten', '20':'Twenty'}\n",
    "flag= 0\n",
    "while True:\n",
    "    answer= input(\"Enter an amount and the program will respond with the text spelling out of amount or press 'q' to quit. \\n\")\n",
    "      \n",
    "    if answer.lower()== 'q':\n",
    "        print(\"Here are the values you have entered: \\n\")\n",
    "        print(numbers)\n",
    "        break\n",
    "        \n",
    "    else:\n",
    "        for key, value in numbers.items():\n",
    "            if key == answer:\n",
    "                print(\"You have entered: \" + str(value))\n",
    "                flag= 1\n",
    "                \n",
    "        if flag== 0:\n",
    "                print(\"The value doesn't exist into the dictionary. \\n\")\n",
    "                answerAmount= input(\"Please, spell out the amount for : \" + answer + \" \")\n",
    "                numbers[answer]= answerAmount  \n",
    "        \n",
    "        \n",
    "        "
   ]
  },
  {
   "cell_type": "code",
   "execution_count": null,
   "metadata": {},
   "outputs": [],
   "source": []
  }
 ],
 "metadata": {
  "kernelspec": {
   "display_name": "Python 3",
   "language": "python",
   "name": "python3"
  },
  "language_info": {
   "codemirror_mode": {
    "name": "ipython",
    "version": 3
   },
   "file_extension": ".py",
   "mimetype": "text/x-python",
   "name": "python",
   "nbconvert_exporter": "python",
   "pygments_lexer": "ipython3",
   "version": "3.7.3"
  }
 },
 "nbformat": 4,
 "nbformat_minor": 2
}
